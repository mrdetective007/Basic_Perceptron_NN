{
  "cells": [
    {
      "cell_type": "code",
      "execution_count": 5,
      "metadata": {
        "colab": {
          "base_uri": "https://localhost:8080/"
        },
        "id": "DyJfJ9X1BDeH",
        "outputId": "ac4a340a-d312-4905-f1ff-2b70ba0c27d7"
      },
      "outputs": [],
      "source": [
        "import pandas as pd\n",
        "import numpy as np\n",
        "import warnings\n",
        "warnings.filterwarnings('ignore')\n",
        "df=pd.read_csv('C:\\\\Users\\\\MY PC\\\\OneDrive\\\\Desktop\\\\ML_Assignement\\\\ML_assign1\\\\Dsata_Set_for_Assignment 1.csv')\n",
        "import sys\n",
        "num = 10\n",
        "# f = open(str(num) + \"output.txt\", \"w\")\n",
        "# print = f.write"
      ]
    },
    {
      "cell_type": "code",
      "execution_count": 6,
      "metadata": {
        "id": "xTciyD0SBkEG"
      },
      "outputs": [],
      "source": [
        "# Feature Engineering Task 1 \n",
        "\n",
        "cols = df.columns\n",
        "num_cols = df.select_dtypes(include='number').columns\n",
        "\n",
        "\n",
        "mode_value = df['diagnosis'].mode()[0]\n",
        "df['diagnosis'].fillna(mode_value, inplace=True)\n",
        "\n",
        "for col in num_cols:\n",
        "    col_mean = df[col].mean()\n",
        "    df[col].fillna(col_mean, inplace=True)\n",
        "\n",
        "    \n",
        "df['diagnosis'].replace({'M': -1, 'B': 1}, inplace=True)\n",
        "y = df['diagnosis'].values\n",
        "x=df.iloc[:, 2:].values\n"
      ]
    },
    {
      "cell_type": "code",
      "execution_count": 7,
      "metadata": {
        "id": "qemVEI2DBqo7"
      },
      "outputs": [],
      "source": [
        "import matplotlib.pyplot as plt\n",
        "\n",
        "class percep:\n",
        "  def __init__(self, iter=30, w=np.zeros(30)):\n",
        "    self.iter=iter\n",
        "    self.w=w\n",
        "\n",
        "  def train(self,x,y,ite):\n",
        "      self.iter=ite\n",
        "      while(self.iter>0):\n",
        "        self.iter=self.iter-1\n",
        "        for i in range(len(x)):\n",
        "          wx=np.dot(self.w,x[i])\n",
        "          y_p=np.dot(wx,y[i])\n",
        "          if y_p<=0:\n",
        "            self.w=self.w+x[i]*y[i]\n",
        "            break\n",
        "      return self.w\n",
        "\n",
        "  def test(self,w, x):\n",
        "      y_pred = np.dot(w, x)\n",
        "      if y_pred<=0:\n",
        "        return -1\n",
        "      return 1\n",
        "\n",
        "  def accuracy(self, y, y_pred):\n",
        "      return 100*(np.sum(y==y_pred)/len(y))\n"
      ]
    },
    {
      "cell_type": "code",
      "execution_count": 8,
      "metadata": {
        "colab": {
          "base_uri": "https://localhost:8080/"
        },
        "id": "PRliQo68BqkB",
        "outputId": "49fb0f5c-28da-4903-e1d0-d80f46abd3e6"
      },
      "outputs": [
        {
          "name": "stdout",
          "output_type": "stream",
          "text": [
            "PM-1\n",
            "\n",
            "Training data size: 381\n",
            "\n",
            "Test data size: 188\n",
            "\n",
            "Accuracy: 43.08510638297872\n",
            "\n"
          ]
        }
      ],
      "source": [
        "#PM-1\n",
        "print(\"PM-1\" + '\\n')\n",
        "\n",
        "train_proportion = 0.67\n",
        "num_train_rows = int(train_proportion * len(df))\n",
        "train_data = df[:num_train_rows]\n",
        "test_data = df[num_train_rows:]\n",
        "\n",
        "print(f'Training data size: {len(train_data)}' + '\\n')\n",
        "print(f'Test data size: {len(test_data)}'+ '\\n')\n",
        "\n",
        "x_train=train_data.iloc[:, 2:].values\n",
        "x_test=test_data.iloc[:, 2:].values\n",
        "y_train=train_data.iloc[:, 1].values\n",
        "y_test=test_data.iloc[:, 1].values\n",
        "\n",
        "\n",
        "\n",
        "perceptron = percep()\n",
        "weights = perceptron.train(x_train, y_train, 10000)\n",
        "y_pred = np.array([perceptron.test(weights, x_test[j]) for j in range(len(x_test))])\n",
        "accuracy = perceptron.accuracy(y_test, y_pred)\n",
        "print(\"Accuracy: \" + str(accuracy)+ '\\n')"
      ]
    },
    {
      "cell_type": "code",
      "execution_count": 9,
      "metadata": {
        "colab": {
          "base_uri": "https://localhost:8080/"
        },
        "id": "WpZH06C-Bqfg",
        "outputId": "4e998fae-076f-43ba-fe22-075c27da5779"
      },
      "outputs": [
        {
          "name": "stdout",
          "output_type": "stream",
          "text": [
            "PM-2\n",
            "\n",
            "Training data size: 381\n",
            "\n",
            "Test data size: 188\n",
            "\n",
            "Accuracy: 86.17021276595744\n",
            "\n"
          ]
        }
      ],
      "source": [
        "#PM-2\n",
        "print(\"PM-2\" + '\\n')\n",
        "shuffled_data = df.sample(frac=1, random_state=42)\n",
        "train_proportion = 0.67\n",
        "num_train_rows = int(train_proportion * len(shuffled_data))\n",
        "train_data = shuffled_data[:num_train_rows]\n",
        "test_data = shuffled_data[num_train_rows:]\n",
        "print(f'Training data size: {len(train_data)}'+ '\\n')\n",
        "print(f'Test data size: {len(test_data)}'+ '\\n')\n",
        "\n",
        "x_train=train_data.iloc[:, 2:].values\n",
        "x_test=test_data.iloc[:, 2:].values\n",
        "y_train=train_data.iloc[:, 1].values\n",
        "y_test=test_data.iloc[:, 1].values\n",
        "\n",
        "\n",
        "perceptron = percep()\n",
        "weights = perceptron.train(x_train, y_train, 10000)\n",
        "y_pred = np.array([perceptron.test(weights, x_test[j]) for j in range(len(x_test))])\n",
        "accuracy = perceptron.accuracy(y_test, y_pred)\n",
        "print(\"Accuracy: \"+str(accuracy)+ '\\n')\n"
      ]
    },
    {
      "cell_type": "code",
      "execution_count": 10,
      "metadata": {
        "colab": {
          "base_uri": "https://localhost:8080/"
        },
        "id": "pAwvcjXPBqam",
        "outputId": "6393f7a3-df48-401a-ead3-431b351dcf20"
      },
      "outputs": [
        {
          "name": "stdout",
          "output_type": "stream",
          "text": [
            "PM-3\n",
            "\n",
            "Training data size: 381\n",
            "\n",
            "Test data size: 188\n",
            "\n",
            "Accuracy: 93.08510638297872\n",
            "\n"
          ]
        }
      ],
      "source": [
        "#PM-3\n",
        "print(\"PM-3\" + '\\n')\n",
        "for col in num_cols:\n",
        "    mean_value = df[col].mean()\n",
        "    std_value = df[col].std()\n",
        "    df[col] = (df[col] - mean_value) / std_value\n",
        "\n",
        "y = df['diagnosis'].values\n",
        "x=df.iloc[:, 2:].values\n",
        "\n",
        "train_proportion = 0.67\n",
        "num_train_rows = int(train_proportion * len(df))\n",
        "train_data = df[:num_train_rows]\n",
        "test_data = df[num_train_rows:]\n",
        "\n",
        "print(f'Training data size: {len(train_data)}'+ '\\n')\n",
        "print(f'Test data size: {len(test_data)}'+ '\\n')\n",
        "\n",
        "x_train=train_data.iloc[:, 2:].values\n",
        "x_test=test_data.iloc[:, 2:].values\n",
        "y_train=train_data.iloc[:, 1].values\n",
        "y_test=test_data.iloc[:, 1].values\n",
        "\n",
        "perceptron = percep()\n",
        "weights = perceptron.train(x_train, y_train, 10000)\n",
        "y_pred = np.array([perceptron.test(weights, x_test[j]) for j in range(len(x_test))])\n",
        "accuracy = perceptron.accuracy(y_test, y_pred)\n",
        "print(\"Accuracy: \" + str(accuracy)+ '\\n')\n",
        "\n",
        "\n"
      ]
    },
    {
      "cell_type": "code",
      "execution_count": 11,
      "metadata": {
        "colab": {
          "base_uri": "https://localhost:8080/",
          "height": 432
        },
        "id": "LfoHFuH-BqFv",
        "outputId": "d467b4fc-b143-4a9e-a4a9-d050af77936e"
      },
      "outputs": [
        {
          "name": "stdout",
          "output_type": "stream",
          "text": [
            "PM-4\n",
            "\n",
            "Training data size: 381\n",
            "\n",
            "Test data size: 188\n",
            "\n",
            "Accuracy: 57.97872340425532\n",
            "\n"
          ]
        }
      ],
      "source": [
        "#PM-4\n",
        "print(\"PM-4\" + '\\n')\n",
        "# first_two_columns = df[:, 0:2]\n",
        "first_two_columns = df.iloc[:, 0:2]\n",
        "# extract the remaining columns\n",
        "remaining_columns = df.iloc[:, 2:]\n",
        "# shuffle the remaining columns randomly\n",
        "shuffled_columns = np.random.permutation(remaining_columns)\n",
        "# combine the first two columns matrix with the shuffled coluns matrix\n",
        "shuffled_matrix = np.concatenate((first_two_columns, shuffled_columns), axis=1)\n",
        "y = df['diagnosis'].values\n",
        "\n",
        "# make y = 1 for M and -1 for B\n",
        "y = np.where(y=='M',1,-1)\n",
        "x = df.drop(['diagnosis','id'],axis=1).values\n",
        "\n",
        "train_proportion = 0.67\n",
        "num_train_rows = int(train_proportion * len(shuffled_matrix))\n",
        "train_data = shuffled_matrix[:num_train_rows]\n",
        "test_data = shuffled_matrix[num_train_rows:]\n",
        "\n",
        "print(f'Training data size: {len(train_data)}'+ '\\n')\n",
        "print(f'Test data size: {len(test_data)}'+ '\\n')\n",
        "\n",
        "# x_train=train_data.iloc[:, 2:].values\n",
        "x_train=train_data[:, 2:]\n",
        "x_test=test_data[:, 2:]\n",
        "y_train=train_data[:, 1]\n",
        "y_test=test_data[:, 1]\n",
        "\n",
        "perceptron = percep()\n",
        "weights = perceptron.train(x_train, y_train, 10000)\n",
        "y_pred = np.array([perceptron.test(weights, x_test[j]) for j in range(len(x_test))])\n",
        "accuracy = perceptron.accuracy(y_test, y_pred)\n",
        "print(\"Accuracy: \"+str( accuracy)+ '\\n')"
      ]
    },
    {
      "cell_type": "code",
      "execution_count": 12,
      "metadata": {},
      "outputs": [],
      "source": [
        "# f.close()"
      ]
    }
  ],
  "metadata": {
    "colab": {
      "provenance": [],
      "toc_visible": true
    },
    "kernelspec": {
      "display_name": "Python 3",
      "name": "python3"
    },
    "language_info": {
      "codemirror_mode": {
        "name": "ipython",
        "version": 3
      },
      "file_extension": ".py",
      "mimetype": "text/x-python",
      "name": "python",
      "nbconvert_exporter": "python",
      "pygments_lexer": "ipython3",
      "version": "3.11.1"
    }
  },
  "nbformat": 4,
  "nbformat_minor": 0
}
